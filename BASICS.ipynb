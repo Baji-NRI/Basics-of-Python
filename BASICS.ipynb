{
  "nbformat": 4,
  "nbformat_minor": 0,
  "metadata": {
    "colab": {
      "provenance": [],
      "include_colab_link": true
    },
    "kernelspec": {
      "name": "python3",
      "display_name": "Python 3"
    },
    "language_info": {
      "name": "python"
    }
  },
  "cells": [
    {
      "cell_type": "markdown",
      "metadata": {
        "id": "view-in-github",
        "colab_type": "text"
      },
      "source": [
        "<a href=\"https://colab.research.google.com/github/Baji-NRI/Basics-of-Python/blob/main/BASICS.ipynb\" target=\"_parent\"><img src=\"https://colab.research.google.com/assets/colab-badge.svg\" alt=\"Open In Colab\"/></a>"
      ]
    },
    {
      "cell_type": "markdown",
      "source": [
        "Python - File extension is .py\n",
        "\n",
        "Released in 1991\n",
        "\n",
        "Creator - Van Rossum\n",
        "\n",
        "Based on Interpreter - LTR ~ TTB\n",
        "\n",
        "Use Cases : 1. Web Dev - Django 2. Backend Dev 3. M L 4. AI & DS 5. DSA\n",
        "\n",
        "Real time Activities :\n",
        "\n",
        "Software Dev Server - Database Math Ops Scripting Prototyping\n",
        "\n",
        "Python - D&C - Divide and Conquer\n",
        "\n",
        "Problem A -> A1, A2, A3, A4 Solution -> SA1, SA2, SA3, SA4\n",
        "\n",
        "Final Solution = SA1 + SA2 + SA3 + SA4 = S"
      ],
      "metadata": {
        "id": "hPedKS5m3eQB"
      }
    },
    {
      "cell_type": "markdown",
      "source": [
        "Problem\n",
        " Build a ChatBot that can answer or reply the user with his Query/ Question."
      ],
      "metadata": {
        "id": "tUcA0GSB3lgd"
      }
    },
    {
      "cell_type": "markdown",
      "source": [
        "Solution\n",
        "\n",
        "Step 1 : Arrange API or SDK for AI / Model Responses\n",
        "Step 2 : Get API Key for the API from Step 1\n",
        "Step 3 : Create functions that can send and get responses from and to the API from user\n",
        "Step 4 : 4.1 CLI - Command Line Interface 4.1 GUI - Graphical USer Interface\n",
        "Step 5 : Create 2 user chat area\n",
        "Stpe 6 : (Optional) Integrate a Database with your Chatbot\n",
        "\n",
        "After Solution :\n",
        "   1.Push the project into Github\n",
        "   2.Create a post with the Chatbot screenrecorded into LinkedIn"
      ],
      "metadata": {
        "id": "lRek9-P-3rva"
      }
    },
    {
      "cell_type": "code",
      "source": [
        "#Introduction to Python\n",
        "Data -\n",
        "StudentName - ABCD DOB - 2004\n",
        "PC - variables\n",
        "Variable Name -\n",
        "    1. Must not start with Numbers or special chars\n",
        "    2. No whitespaces in variable name\n",
        "    3.3.1 : Camel Case - rollNumber, studentName\n",
        "    3.2 Pascal Case - RollNumber, StudentName\n",
        "    3.3 Snake case - roll_number, student_name\n",
        "    4. Case sensitive\n",
        "       num1 = 10 - small Alp - lower case Num1 = 10 - Cap alp - upper case"
      ],
      "metadata": {
        "id": "isN8z7slxYWg"
      },
      "execution_count": null,
      "outputs": []
    },
    {
      "cell_type": "code",
      "source": [
        "Data type:\n",
        "Text data - str - Strings - \" \" / ''\n",
        "\n"
      ],
      "metadata": {
        "id": "KauQxSmHx1n7"
      },
      "execution_count": null,
      "outputs": []
    },
    {
      "cell_type": "code",
      "source": [
        "StudentName=\"varun's dog is playing\""
      ],
      "metadata": {
        "id": "RacUq3fcx4sn"
      },
      "execution_count": null,
      "outputs": []
    },
    {
      "cell_type": "code",
      "source": [
        "print(StudentName)"
      ],
      "metadata": {
        "colab": {
          "base_uri": "https://localhost:8080/"
        },
        "id": "0R9OiMRnyZuy",
        "outputId": "0b5d811c-d40d-4aa3-d066-58fb5ad27a39"
      },
      "execution_count": null,
      "outputs": [
        {
          "output_type": "stream",
          "name": "stdout",
          "text": [
            "varun's dog is playing\n"
          ]
        }
      ]
    },
    {
      "cell_type": "code",
      "source": [
        "type(StudentName)"
      ],
      "metadata": {
        "colab": {
          "base_uri": "https://localhost:8080/"
        },
        "id": "Gu5vw8BQyop_",
        "outputId": "ce112b9b-c347-4cb1-d279-88c4b7b6ec57"
      },
      "execution_count": null,
      "outputs": [
        {
          "output_type": "execute_result",
          "data": {
            "text/plain": [
              "str"
            ]
          },
          "metadata": {},
          "execution_count": 4
        }
      ]
    },
    {
      "cell_type": "code",
      "source": [
        "2. int - Integer - Numerical value without decimals or fractions- Z\n"
      ],
      "metadata": {
        "id": "5oWcdNJPzF2s"
      },
      "execution_count": null,
      "outputs": []
    },
    {
      "cell_type": "code",
      "source": [
        " rollNumber = 10"
      ],
      "metadata": {
        "id": "JcsQMyc8zzxY"
      },
      "execution_count": null,
      "outputs": []
    },
    {
      "cell_type": "code",
      "source": [
        "print(rollNumber)"
      ],
      "metadata": {
        "colab": {
          "base_uri": "https://localhost:8080/"
        },
        "id": "DhStlPPGz1xI",
        "outputId": "4b58fe1a-4258-46f8-8085-1ef258359e69"
      },
      "execution_count": null,
      "outputs": [
        {
          "output_type": "stream",
          "name": "stdout",
          "text": [
            "10\n"
          ]
        }
      ]
    },
    {
      "cell_type": "code",
      "source": [
        "type(rollNumber)"
      ],
      "metadata": {
        "colab": {
          "base_uri": "https://localhost:8080/"
        },
        "id": "kXAmGTH80Iz7",
        "outputId": "2dd783ff-2ca2-4ba3-8da1-9e54c240fdda"
      },
      "execution_count": null,
      "outputs": [
        {
          "output_type": "execute_result",
          "data": {
            "text/plain": [
              "int"
            ]
          },
          "metadata": {},
          "execution_count": 15
        }
      ]
    },
    {
      "cell_type": "code",
      "source": [
        "3.float-float-decimal values\n",
        "Ex:-10.5,12,9,5.5,...."
      ],
      "metadata": {
        "id": "9aU_LhVI0e71"
      },
      "execution_count": null,
      "outputs": []
    },
    {
      "cell_type": "code",
      "source": [
        "cgpa=9.8"
      ],
      "metadata": {
        "id": "ZtrlMxzM1bcH"
      },
      "execution_count": null,
      "outputs": []
    },
    {
      "cell_type": "code",
      "source": [
        "print(cgpa)"
      ],
      "metadata": {
        "colab": {
          "base_uri": "https://localhost:8080/"
        },
        "id": "BRLV8yNQ1hB7",
        "outputId": "246771cc-8574-49c9-dbde-bc150ea27e25"
      },
      "execution_count": null,
      "outputs": [
        {
          "output_type": "stream",
          "name": "stdout",
          "text": [
            "9.8\n"
          ]
        }
      ]
    },
    {
      "cell_type": "code",
      "source": [
        "type(cgpa)"
      ],
      "metadata": {
        "colab": {
          "base_uri": "https://localhost:8080/"
        },
        "id": "_kTSLwwy1mz1",
        "outputId": "8273add2-cb3d-468b-f083-2acf03f99629"
      },
      "execution_count": null,
      "outputs": [
        {
          "output_type": "execute_result",
          "data": {
            "text/plain": [
              "float"
            ]
          },
          "metadata": {},
          "execution_count": 18
        }
      ]
    },
    {
      "cell_type": "code",
      "source": [
        "4. bool - Boolean - True / False\n",
        "Ex - isTopper - False\n",
        "isMarried - False"
      ],
      "metadata": {
        "id": "Z_Wmwm8y1sgH"
      },
      "execution_count": null,
      "outputs": []
    },
    {
      "cell_type": "code",
      "source": [
        "ismarried=False"
      ],
      "metadata": {
        "id": "i4nw5aIe2ASa"
      },
      "execution_count": null,
      "outputs": []
    },
    {
      "cell_type": "code",
      "source": [
        "print(ismarried)"
      ],
      "metadata": {
        "colab": {
          "base_uri": "https://localhost:8080/"
        },
        "id": "GxtwWxPB2J7K",
        "outputId": "e33262a9-10ee-4cf0-9928-0a68317fe927"
      },
      "execution_count": null,
      "outputs": [
        {
          "output_type": "stream",
          "name": "stdout",
          "text": [
            "False\n"
          ]
        }
      ]
    },
    {
      "cell_type": "code",
      "source": [
        "type(ismarried)"
      ],
      "metadata": {
        "colab": {
          "base_uri": "https://localhost:8080/"
        },
        "id": "VAJuRqRM2RJk",
        "outputId": "4c4868e0-fba1-4b78-a311-208dca371cd9"
      },
      "execution_count": null,
      "outputs": [
        {
          "output_type": "execute_result",
          "data": {
            "text/plain": [
              "bool"
            ]
          },
          "metadata": {},
          "execution_count": 22
        }
      ]
    },
    {
      "cell_type": "code",
      "source": [
        "5.none-none"
      ],
      "metadata": {
        "id": "xZEGBM6P2W8l"
      },
      "execution_count": null,
      "outputs": []
    },
    {
      "cell_type": "code",
      "source": [
        "datafromnetwork=None"
      ],
      "metadata": {
        "id": "4uor65bp2eT1"
      },
      "execution_count": null,
      "outputs": []
    },
    {
      "cell_type": "code",
      "source": [
        "None"
      ],
      "metadata": {
        "id": "O5sWjuBL2pCG"
      },
      "execution_count": null,
      "outputs": []
    },
    {
      "cell_type": "code",
      "source": [
        "type(datafromnetwork)"
      ],
      "metadata": {
        "colab": {
          "base_uri": "https://localhost:8080/"
        },
        "id": "imY8w5l42tQb",
        "outputId": "557008f0-7637-4b77-a135-5e8d3da97b1f"
      },
      "execution_count": null,
      "outputs": [
        {
          "output_type": "execute_result",
          "data": {
            "text/plain": [
              "NoneType"
            ]
          },
          "metadata": {},
          "execution_count": 28
        }
      ]
    },
    {
      "cell_type": "markdown",
      "source": [
        "Numericals\n",
        "* int and float\n",
        "\n",
        "Operators\n",
        "\n",
        "* Mathematical operator\n",
        "\n",
        "+ - * / % ** ^ //\n",
        "\n",
        "*Comparisional operators\n",
        "> < >= <= == !=. --> boolean"
      ],
      "metadata": {
        "id": "WA9HKRST3LiZ"
      }
    }
  ]
}